{
 "cells": [
  {
   "cell_type": "code",
   "execution_count": 12,
   "id": "c61d47a6-7746-4e03-b342-6431a0482f7a",
   "metadata": {},
   "outputs": [],
   "source": [
    "import tensorflow as tf\n",
    "from tensorflow.keras import layers, models\n",
    "from tensorflow.keras.preprocessing.image import ImageDataGenerator\n",
    "import matplotlib.pyplot as plt\n",
    "import os\n",
    "import scipy"
   ]
  },
  {
   "cell_type": "code",
   "execution_count": 13,
   "id": "9e86d2f1-61f1-4137-bc5f-79155047fc62",
   "metadata": {},
   "outputs": [],
   "source": [
    "# Define paths to your dataset\n",
    "data_dir = '/Users/esthersagara/Desktop/Image_Classifier/clf-data'\n",
    "train_data_dir = os.path.join(data_dir, 'train')\n",
    "test_data_dir = os.path.join(data_dir, 'test')"
   ]
  },
  {
   "cell_type": "code",
   "execution_count": 14,
   "id": "1770f0b6-77f6-4ea0-ac35-79d7809175bd",
   "metadata": {},
   "outputs": [],
   "source": [
    "# Define the CNN model\n",
    "model = models.Sequential()\n",
    "model.add(layers.Conv2D(32, (3, 3), activation='relu', input_shape=(224, 224, 3)))\n",
    "model.add(layers.MaxPooling2D((2, 2)))\n",
    "model.add(layers.Conv2D(64, (3, 3), activation='relu'))\n",
    "model.add(layers.MaxPooling2D((2, 2)))\n",
    "model.add(layers.Conv2D(128, (3, 3), activation='relu'))\n",
    "model.add(layers.MaxPooling2D((2, 2)))\n",
    "model.add(layers.Flatten())\n",
    "model.add(layers.Dense(128, activation='relu'))\n",
    "model.add(layers.Dense(1, activation='sigmoid'))  # Binary classification (empty or occupied)"
   ]
  },
  {
   "cell_type": "code",
   "execution_count": 15,
   "id": "848a69c1-17f3-498b-b6f7-1f15516eb01f",
   "metadata": {},
   "outputs": [],
   "source": [
    "# Compile the model\n",
    "model.compile(optimizer='adam',\n",
    "              loss='binary_crossentropy',\n",
    "              metrics=['accuracy'])\n",
    "\n",
    "# Data augmentation to improve model generalization\n",
    "train_datagen = ImageDataGenerator(rescale=1./255, shear_range=0.2, zoom_range=0.2, horizontal_flip=True)\n",
    "test_datagen = ImageDataGenerator(rescale=1./255)\n"
   ]
  },
  {
   "cell_type": "code",
   "execution_count": 16,
   "id": "318911ac-a6e5-4316-aa74-bf9c5f7b7dbd",
   "metadata": {},
   "outputs": [
    {
     "name": "stdout",
     "output_type": "stream",
     "text": [
      "Found 2715 images belonging to 2 classes.\n"
     ]
    }
   ],
   "source": [
    "# Load and augment training data\n",
    "train_generator = train_datagen.flow_from_directory(\n",
    "    train_data_dir,\n",
    "    target_size=(224, 224),\n",
    "    batch_size=32,\n",
    "    class_mode='binary'\n",
    ")"
   ]
  },
  {
   "cell_type": "code",
   "execution_count": 17,
   "id": "3c39f5b9-2997-4f6d-b58b-0422234c9075",
   "metadata": {},
   "outputs": [
    {
     "name": "stdout",
     "output_type": "stream",
     "text": [
      "Found 3375 images belonging to 2 classes.\n"
     ]
    }
   ],
   "source": [
    "# Load test data (without augmentation)\n",
    "test_generator = test_datagen.flow_from_directory(\n",
    "    test_data_dir,\n",
    "    target_size=(224, 224),\n",
    "    batch_size=32,\n",
    "    class_mode='binary'\n",
    ")"
   ]
  },
  {
   "cell_type": "code",
   "execution_count": 18,
   "id": "3a2c52bb-bb49-416a-a00f-9e2143aa92fc",
   "metadata": {
    "scrolled": true
   },
   "outputs": [
    {
     "name": "stdout",
     "output_type": "stream",
     "text": [
      "Epoch 1/10\n",
      "85/85 [==============================] - 58s 683ms/step - loss: 0.3236 - accuracy: 0.8541 - val_loss: 0.0715 - val_accuracy: 0.9828\n",
      "Epoch 2/10\n",
      "85/85 [==============================] - 65s 768ms/step - loss: 0.0604 - accuracy: 0.9831 - val_loss: 0.0350 - val_accuracy: 0.9837\n",
      "Epoch 3/10\n",
      "85/85 [==============================] - 68s 798ms/step - loss: 0.0451 - accuracy: 0.9867 - val_loss: 0.0523 - val_accuracy: 0.9822\n",
      "Epoch 4/10\n",
      "85/85 [==============================] - 69s 805ms/step - loss: 0.0225 - accuracy: 0.9937 - val_loss: 0.0332 - val_accuracy: 0.9870\n",
      "Epoch 5/10\n",
      "85/85 [==============================] - 69s 814ms/step - loss: 0.0254 - accuracy: 0.9901 - val_loss: 0.0272 - val_accuracy: 0.9861\n",
      "Epoch 6/10\n",
      "85/85 [==============================] - 78s 921ms/step - loss: 0.0146 - accuracy: 0.9948 - val_loss: 0.0075 - val_accuracy: 0.9970\n",
      "Epoch 7/10\n",
      "85/85 [==============================] - 72s 850ms/step - loss: 0.0042 - accuracy: 0.9985 - val_loss: 0.0212 - val_accuracy: 0.9881\n",
      "Epoch 8/10\n",
      "85/85 [==============================] - 72s 852ms/step - loss: 0.0011 - accuracy: 0.9996 - val_loss: 0.0236 - val_accuracy: 0.9879\n",
      "Epoch 9/10\n",
      "85/85 [==============================] - 71s 831ms/step - loss: 0.0015 - accuracy: 0.9993 - val_loss: 0.0196 - val_accuracy: 0.9908\n",
      "Epoch 10/10\n",
      "85/85 [==============================] - 73s 863ms/step - loss: 0.0123 - accuracy: 0.9948 - val_loss: 0.1460 - val_accuracy: 0.9393\n"
     ]
    }
   ],
   "source": [
    "# Train the model\n",
    "history = model.fit(train_generator, epochs=10, validation_data=test_generator)"
   ]
  },
  {
   "cell_type": "code",
   "execution_count": 20,
   "id": "9d8fd9a4-d0ea-4c04-8d99-8b883c1919a4",
   "metadata": {},
   "outputs": [
    {
     "name": "stdout",
     "output_type": "stream",
     "text": [
      "106/106 [==============================] - 14s 133ms/step - loss: 0.1460 - accuracy: 0.9393\n",
      "Test accuracy: 0.9392592310905457\n"
     ]
    }
   ],
   "source": [
    "# Evaluate the model\n",
    "test_loss, test_acc = model.evaluate(test_generator)\n",
    "print(f'Test accuracy: {test_acc}')"
   ]
  },
  {
   "cell_type": "code",
   "execution_count": 21,
   "id": "d5bf6f1b-2d77-42a7-8481-393946bc00e1",
   "metadata": {},
   "outputs": [
    {
     "data": {
      "image/png": "[encoded data removed]",
      "text/plain": [
       "<Figure size 640x480 with 1 Axes>"
      ]
     },
     "metadata": {},
     "output_type": "display_data"
    }
   ],
   "source": [
    "# Plot training history\n",
    "plt.plot(history.history['accuracy'], label='accuracy')\n",
    "plt.plot(history.history['val_accuracy'], label='val_accuracy')\n",
    "plt.xlabel('Epoch')\n",
    "plt.ylabel('Accuracy')\n",
    "plt.ylim([0, 1])\n",
    "plt.legend(loc='lower right')\n",
    "plt.show()"
   ]
  },
  {
   "cell_type": "code",
   "execution_count": null,
   "id": "122d7849-4a40-4fb2-89a5-a56963295e3d",
   "metadata": {},
   "outputs": [],
   "source": []
  }
 ],
 "metadata": {
  "kernelspec": {
   "display_name": "Python 3 (ipykernel)",
   "language": "python",
   "name": "python3"
  },
  "language_info": {
   "codemirror_mode": {
    "name": "ipython",
    "version": 3
   },
   "file_extension": ".py",
   "mimetype": "text/x-python",
   "name": "python",
   "nbconvert_exporter": "python",
   "pygments_lexer": "ipython3",
   "version": "3.10.0"
  }
 },
 "nbformat": 4,
 "nbformat_minor": 5
}
